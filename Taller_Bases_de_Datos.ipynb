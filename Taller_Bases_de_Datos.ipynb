{
  "cells": [
    {
      "cell_type": "markdown",
      "id": "9d96f867",
      "metadata": {
        "id": "9d96f867"
      },
      "source": [
        "# 📘 Taller de Bases de Datos con SQLite y Python\n",
        "Este notebook es una **clase práctica** para aprender conceptos básicos de bases de datos, SQL y su integración con Python.\n",
        "\n",
        "### Objetivos del Taller\n",
        "- Crear y manipular bases de datos con SQL (usando SQLite).\n",
        "- Realizar consultas básicas: SELECT, INSERT, UPDATE, DELETE.\n",
        "- Conectar SQLite con Python.\n",
        "- Hacer análisis básico de datos en Python.\n",
        "- Preparar un mini-proyecto con base de datos.\n"
      ]
    },
    {
      "cell_type": "markdown",
      "id": "ef0e2851",
      "metadata": {
        "id": "ef0e2851"
      },
      "source": [
        "## 🔹 1. Importar Librerías"
      ]
    },
    {
      "cell_type": "code",
      "execution_count": null,
      "id": "6b4e7ef7",
      "metadata": {
        "id": "6b4e7ef7"
      },
      "outputs": [],
      "source": [
        "\n",
        "import sqlite3\n",
        "import pandas as pd\n",
        "import matplotlib.pyplot as plt\n"
      ]
    },
    {
      "cell_type": "markdown",
      "id": "cf2ba3ce",
      "metadata": {
        "id": "cf2ba3ce"
      },
      "source": [
        "## 🔹 2. Crear Base de Datos y Tablas"
      ]
    },
    {
      "cell_type": "code",
      "execution_count": null,
      "id": "e36c1158",
      "metadata": {
        "id": "e36c1158"
      },
      "outputs": [],
      "source": [
        "\n",
        "# Crear conexión a la base de datos SQLite\n",
        "conn = sqlite3.connect(\"escuela.db\")\n",
        "cursor = conn.cursor()\n",
        "\n",
        "# Crear tabla estudiantes\n",
        "cursor.execute(\"\"\"\n",
        "CREATE TABLE IF NOT EXISTS estudiantes (\n",
        "    id INTEGER PRIMARY KEY AUTOINCREMENT,\n",
        "    nombre TEXT,\n",
        "    edad INTEGER,\n",
        "    carrera TEXT\n",
        ")\n",
        "\"\"\")\n",
        "conn.commit()\n",
        "print(\"Tabla 'estudiantes' creada con éxito.\")\n"
      ]
    },
    {
      "cell_type": "markdown",
      "id": "e64f0476",
      "metadata": {
        "id": "e64f0476"
      },
      "source": [
        "## 🔹 3. Insertar Datos"
      ]
    },
    {
      "cell_type": "code",
      "execution_count": null,
      "id": "44aae03d",
      "metadata": {
        "id": "44aae03d"
      },
      "outputs": [],
      "source": [
        "\n",
        "# Insertar algunos estudiantes\n",
        "cursor.execute(\"INSERT INTO estudiantes (nombre, edad, carrera) VALUES ('Ana', 22, 'Ingeniería');\")\n",
        "cursor.execute(\"INSERT INTO estudiantes (nombre, edad, carrera) VALUES ('Luis', 20, 'Matemáticas');\")\n",
        "cursor.execute(\"INSERT INTO estudiantes (nombre, edad, carrera) VALUES ('María', 21, 'Física');\")\n",
        "conn.commit()\n",
        "print(\"Datos insertados en la tabla estudiantes.\")\n"
      ]
    },
    {
      "cell_type": "markdown",
      "id": "1aacb268",
      "metadata": {
        "id": "1aacb268"
      },
      "source": [
        "## 🔹 4. Consultar Datos con SQL"
      ]
    },
    {
      "cell_type": "code",
      "execution_count": null,
      "id": "9feb90c2",
      "metadata": {
        "id": "9feb90c2"
      },
      "outputs": [],
      "source": [
        "\n",
        "# Consulta básica\n",
        "df = pd.read_sql(\"SELECT * FROM estudiantes\", conn)\n",
        "df\n"
      ]
    },
    {
      "cell_type": "markdown",
      "id": "f852799d",
      "metadata": {
        "id": "f852799d"
      },
      "source": [
        "## 🔹 5. Actualizar y Eliminar Registros"
      ]
    },
    {
      "cell_type": "code",
      "execution_count": null,
      "id": "59c01558",
      "metadata": {
        "id": "59c01558"
      },
      "outputs": [],
      "source": [
        "\n",
        "# Actualizar\n",
        "cursor.execute(\"UPDATE estudiantes SET edad = 23 WHERE nombre = 'Ana';\")\n",
        "conn.commit()\n",
        "\n",
        "# Eliminar\n",
        "cursor.execute(\"DELETE FROM estudiantes WHERE nombre = 'Luis';\")\n",
        "conn.commit()\n",
        "\n",
        "# Ver cambios\n",
        "df = pd.read_sql(\"SELECT * FROM estudiantes\", conn)\n",
        "df\n"
      ]
    },
    {
      "cell_type": "markdown",
      "id": "cb8a82c8",
      "metadata": {
        "id": "cb8a82c8"
      },
      "source": [
        "## 🔹 6. Análisis de Datos con Pandas"
      ]
    },
    {
      "cell_type": "code",
      "execution_count": null,
      "id": "d5189796",
      "metadata": {
        "id": "d5189796"
      },
      "outputs": [],
      "source": [
        "\n",
        "print(\"Resumen estadístico:\")\n",
        "print(df.describe())\n",
        "\n",
        "print(\"\\nCantidad de estudiantes por carrera:\")\n",
        "print(df['carrera'].value_counts())\n"
      ]
    },
    {
      "cell_type": "markdown",
      "id": "d2f4cf1a",
      "metadata": {
        "id": "d2f4cf1a"
      },
      "source": [
        "## 🔹 7. Visualización de Datos"
      ]
    },
    {
      "cell_type": "code",
      "execution_count": null,
      "id": "448d776d",
      "metadata": {
        "id": "448d776d"
      },
      "outputs": [],
      "source": [
        "\n",
        "df['carrera'].value_counts().plot(kind='bar', color='skyblue')\n",
        "plt.title(\"Número de estudiantes por carrera\")\n",
        "plt.xlabel(\"Carrera\")\n",
        "plt.ylabel(\"Cantidad\")\n",
        "plt.show()\n"
      ]
    },
    {
      "cell_type": "markdown",
      "id": "622797c3",
      "metadata": {
        "id": "622797c3"
      },
      "source": [
        "## 🔹 8. Mini Proyecto\n",
        "### Pregunta: ¿Cuál es la carrera con más estudiantes jóvenes en la base?\n",
        "**Actividad:**\n",
        "- Crea otra tabla `cursos` con cursos asignados a estudiantes.\n",
        "- Inserta datos de ejemplo.\n",
        "- Realiza consultas con `JOIN` para relacionar estudiantes y cursos.\n",
        "- Integra resultados en Python y genera una visualización.\n"
      ]
    },
    {
      "cell_type": "markdown",
      "source": [
        "***Talento*** Tech\n",
        "\n",
        "William Burbano Lima"
      ],
      "metadata": {
        "id": "cTR2nPl05eh4"
      },
      "id": "cTR2nPl05eh4"
    },
    {
      "cell_type": "code",
      "source": [],
      "metadata": {
        "id": "8TQhHj3v5_VB"
      },
      "id": "8TQhHj3v5_VB",
      "execution_count": null,
      "outputs": []
    }
  ],
  "metadata": {
    "colab": {
      "provenance": []
    }
  },
  "nbformat": 4,
  "nbformat_minor": 5
}